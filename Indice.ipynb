{
 "cells": [
  {
   "cell_type": "markdown",
   "metadata": {
    "id": "W7A0gXbOTIXT"
   },
   "source": [
    "# Identificación de sistemas\n",
    "\n",
    "\n",
    "- Contiene una colección de notebooks de [Jupyter](https://jupyter.org/) con notas y ejemplos con el contenido propuesto para el curso **Identificación de sistemas**.\n",
    "\n",
    "- Estas notas fueron escritas por [Jean Pierre DÍAZ-PAZ](https://www.ecoprofe.com/JPDP).\n",
    "\n",
    "- Los notebooks contienen código en [IPython 3](http://ipython.org/).\n",
    "\n",
    "- Este repostorio es una adaptación de diversas fuentes.\n"
   ]
  },
  {
   "cell_type": "markdown",
   "metadata": {
    "id": "nsG10RMfTIXX"
   },
   "source": [
    "## 0 Introducción\n",
    "\n",
    "\n"
   ]
  },
  {
   "cell_type": "markdown",
   "metadata": {
    "id": "upGGfLJsTIXY"
   },
   "source": [
    "## 1  Series de tiempo\n",
    "\n",
    "- [Modelos univariantes.](01_Series_temporales.ipynb)\n",
    "- [Polinomio autorregresivo (AR).]()\n",
    "- [Modelo autorregresivo de media móvil (ARMA).]()\n",
    "- [Modelo autorregresivo integrado de media móvil (ARIMA).]()\n",
    "- [Modelo autorregresivo de media móvil con entrada exógena (ARMAX).]()\n"
   ]
  },
  {
   "cell_type": "markdown",
   "metadata": {
    "id": "8ixBEWWsTIXZ"
   },
   "source": [
    "## 2  Métodos no paramétricos\n",
    "\n",
    "- [Métodos de correlación.]()\n",
    "- [Respuesta al impulso y al escalón.]()\n",
    "- [Análisis espectral.]()\n"
   ]
  },
  {
   "cell_type": "markdown",
   "metadata": {
    "id": "8G0KkVHXTIXZ"
   },
   "source": [
    "## 3  Métodos paramétricos\n",
    "\n",
    "- [Mínimos Cuadrados.]()\n",
    "- [Método de mínimos cuadrados no recursivo.]()\n",
    "- [Método de mínimos cuadrados recursivo.]()\n",
    "- [Identificación de sistemas en línea (on line).]()\n",
    "- [Modelos de predicción.]()\n"
   ]
  }
 ],
 "metadata": {
  "colab": {
   "name": "Indice.ipynb",
   "provenance": []
  },
  "kernelspec": {
   "display_name": "Python 3",
   "language": "python",
   "name": "python3"
  },
  "language_info": {
   "codemirror_mode": {
    "name": "ipython",
    "version": 3
   },
   "file_extension": ".py",
   "mimetype": "text/x-python",
   "name": "python",
   "nbconvert_exporter": "python",
   "pygments_lexer": "ipython3",
   "version": "3.7.3"
  },
  "latex_envs": {
   "bibliofile": "biblio.bib",
   "cite_by": "apalike",
   "current_citInitial": 1,
   "eqLabelWithNumbers": true,
   "eqNumInitial": 0
  }
 },
 "nbformat": 4,
 "nbformat_minor": 1
}
