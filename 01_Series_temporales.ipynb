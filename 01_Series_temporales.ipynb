{
 "cells": [
  {
   "cell_type": "markdown",
   "metadata": {},
   "source": [
    "# Series de tiempo\n",
    "\n",
    "Las [series de tiempo](https://en.wikipedia.org/wiki/Time_series) son mediciones de variables relacionadas con un fenómeno en instantes de tiempo conocidos, de manera que corresponden también a secuencias de tiempo discreto de dichas variables. Se usan modelos para extraer información sobre las relaciones causales entre estas variables y del fenómeno relacionado.\n",
    "\n",
    "Una variable medida $x_t$ puede entenderse como la combinación de distintas componentes:\n",
    "\n",
    "\\begin{equation}\n",
    "x_t = T_t + E_t + C_t + R_t\n",
    "\\end{equation}\n",
    "\n",
    "Donde:\n",
    "- $T_t$ es la tendencia \"ideal\" de la variable.\n",
    "- $E_t$ es una variación estacional de la variable. Hace referencia a variaciones de periodos \"cortos\" respecto al fenómeno.\n",
    "- $C_t$ es una variación cíclica de la variable. Hace referencia a variaciones de periodos \"largos\" respecto al fenómeno.\n",
    "- $R_t$ es una variación aleatoria o ruido de la variable.\n",
    "\n",
    "**Nota** La combinación de estas componentes puede modelarse de otras formas.\n",
    "\n",
    "La serie puede denotarse como\n",
    "\n",
    "\\begin{align}\n",
    "X &= \\left\\{ X1, X2, ... \\right \\} \\\\\n",
    "X &= \\left\\{ X_k \\right \\}_{k \\geq 1} \\\\\n",
    "X &= \\left\\{ X_k : t \\in  T \\right \\}\n",
    "\\end{align}\n"
   ]
  },
  {
   "cell_type": "markdown",
   "metadata": {},
   "source": [
    "## Modelos univariantes\n",
    "\n",
    "- En los modelos univariantes se considera solamente una variable endógena.\n",
    "- No se consideran variables exógenas.\n",
    "- Se busca predecir valores de la serie a partir de información del pasado."
   ]
  },
  {
   "cell_type": "markdown",
   "metadata": {},
   "source": [
    "## Polinomio autorregresivo (AR)\n",
    "\n",
    "\n",
    "\\begin{equation}\n",
    "z_t = c + \\phi z_{t-1} + a_t\n",
    "\\end{equation}\n",
    "\n",
    "\\begin{equation}\n",
    "z_t = c + \\phi_1 z_{t-1} + \\phi_2 z_{t-1} + a_t\n",
    "\\end{equation}"
   ]
  },
  {
   "cell_type": "markdown",
   "metadata": {},
   "source": [
    "## Modelo autorregresivo de media móvil (ARMA)\n",
    "\n",
    "\\begin{equation}\n",
    "z_t = \\mu_z + \\phi z_{t-1} + a_t\n",
    "\\end{equation}\n",
    "\n"
   ]
  },
  {
   "cell_type": "markdown",
   "metadata": {},
   "source": [
    "## Modelo autorregresivo integrado de media móvil (ARIMA)\n",
    "\n",
    "\n",
    "\\begin{equation}\n",
    "\n",
    "\\end{equation}\n",
    "\n",
    "\n"
   ]
  },
  {
   "cell_type": "markdown",
   "metadata": {},
   "source": [
    "## Modelo autorregresivo de media móvil con entrada exógena (ARMAX).\n"
   ]
  }
 ],
 "metadata": {
  "kernelspec": {
   "display_name": "Python 3",
   "language": "python",
   "name": "python3"
  },
  "language_info": {
   "codemirror_mode": {
    "name": "ipython",
    "version": 3
   },
   "file_extension": ".py",
   "mimetype": "text/x-python",
   "name": "python",
   "nbconvert_exporter": "python",
   "pygments_lexer": "ipython3",
   "version": "3.7.8"
  },
  "latex_envs": {
   "bibliofile": "biblio.bib",
   "cite_by": "apalike",
   "current_citInitial": 1,
   "eqLabelWithNumbers": true,
   "eqNumInitial": 0
  },
  "varInspector": {
   "cols": {
    "lenName": 16,
    "lenType": 16,
    "lenVar": 40
   },
   "kernels_config": {
    "python": {
     "delete_cmd_postfix": "",
     "delete_cmd_prefix": "del ",
     "library": "var_list.py",
     "varRefreshCmd": "print(var_dic_list())"
    },
    "r": {
     "delete_cmd_postfix": ") ",
     "delete_cmd_prefix": "rm(",
     "library": "var_list.r",
     "varRefreshCmd": "cat(var_dic_list()) "
    }
   },
   "types_to_exclude": [
    "module",
    "function",
    "builtin_function_or_method",
    "instance",
    "_Feature"
   ],
   "window_display": false
  }
 },
 "nbformat": 4,
 "nbformat_minor": 4
}
